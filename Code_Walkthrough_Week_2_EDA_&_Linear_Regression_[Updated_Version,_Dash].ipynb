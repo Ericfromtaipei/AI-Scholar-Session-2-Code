{
  "nbformat": 4,
  "nbformat_minor": 0,
  "metadata": {
    "kernelspec": {
      "display_name": "Python 3",
      "language": "python",
      "name": "python3"
    },
    "language_info": {
      "codemirror_mode": {
        "name": "ipython",
        "version": 3
      },
      "file_extension": ".py",
      "mimetype": "text/x-python",
      "name": "python",
      "nbconvert_exporter": "python",
      "pygments_lexer": "ipython3",
      "version": "3.8.3"
    },
    "colab": {
      "provenance": [],
      "include_colab_link": true
    }
  },
  "cells": [
    {
      "cell_type": "markdown",
      "metadata": {
        "id": "view-in-github",
        "colab_type": "text"
      },
      "source": [
        "<a href=\"https://colab.research.google.com/github/Ericfromtaipei/AI-Scholar-Session-2-Code/blob/main/Code_Walkthrough_Week_2_EDA_%26_Linear_Regression_%5BUpdated_Version%2C_Dash%5D.ipynb\" target=\"_parent\"><img src=\"https://colab.research.google.com/assets/colab-badge.svg\" alt=\"Open In Colab\"/></a>"
      ]
    },
    {
      "cell_type": "markdown",
      "metadata": {
        "id": "VE7kPlRiIBbt"
      },
      "source": [
        "# Machine Learning Simple Regression Analysis: Housing Price Data Set\n",
        "\n",
        "The most basic building block in machine learning is regression analysis. In this notebook, using python, we'll carry out a linear regression regression procedure.\n"
      ]
    },
    {
      "cell_type": "markdown",
      "metadata": {
        "id": "_ZxFCMJfIBbv"
      },
      "source": [
        "## Environment Initiation\n",
        "\n",
        "Let's set up our coding environment."
      ]
    },
    {
      "cell_type": "code",
      "metadata": {
        "id": "7WyAfnc5IBbw"
      },
      "source": [
        "import numpy as np  # for numerical operations\n",
        "import pandas as pd  # for dataset operations\n",
        "import matplotlib.pyplot as plt # for plotting"
      ],
      "execution_count": null,
      "outputs": []
    },
    {
      "cell_type": "markdown",
      "metadata": {
        "id": "D58sdYZZ9P54"
      },
      "source": [
        "#### Ames Housing Dataset\n",
        "- Each row represents a home in Ames, Iowa. Each column describes a feature of the home.\n",
        "- Our goal will be to predict the sales prices of homes, based on their features\n",
        "- Run the code below to download the dataset"
      ]
    },
    {
      "cell_type": "code",
      "source": [
        "# Download dataset\n",
        "df = pd.read_csv(\"http://jse.amstat.org/v19n3/decock/AmesHousing.txt\", sep='\\t')\n",
        "df = df[['Year Built','Gr Liv Area','Overall Qual','Neighborhood','Foundation','TotRms AbvGrd','Full Bath', 'Bedroom AbvGr','SalePrice']]\n",
        "df.columns = ['Year Built','House Area (sqft)','Quality of Build','Neighborhood','Foundation Type','Total Rooms','Bathrooms','Bedrooms','SalePrice']"
      ],
      "metadata": {
        "id": "NEB1xrU-CqWI"
      },
      "execution_count": null,
      "outputs": []
    },
    {
      "cell_type": "code",
      "source": [
        "# Display firt few rows of dataset\n",
        "df.head()"
      ],
      "metadata": {
        "colab": {
          "base_uri": "https://localhost:8080/",
          "height": 206
        },
        "id": "P7TvQHlSCt92",
        "outputId": "8cde8222-637c-4b81-b65a-f5972bb6c2d0"
      },
      "execution_count": null,
      "outputs": [
        {
          "output_type": "execute_result",
          "data": {
            "text/plain": [
              "   Year Built  House Area (sqft)  Quality of Build Neighborhood  \\\n",
              "0        1960               1656                 6        NAmes   \n",
              "1        1961                896                 5        NAmes   \n",
              "2        1958               1329                 6        NAmes   \n",
              "3        1968               2110                 7        NAmes   \n",
              "4        1997               1629                 5      Gilbert   \n",
              "\n",
              "  Foundation Type  Total Rooms  Bathrooms  Bedrooms  SalePrice  \n",
              "0          CBlock            7          1         3     215000  \n",
              "1          CBlock            5          1         2     105000  \n",
              "2          CBlock            6          1         3     172000  \n",
              "3          CBlock            8          2         3     244000  \n",
              "4           PConc            6          2         3     189900  "
            ],
            "text/html": [
              "\n",
              "  <div id=\"df-db621164-f9b5-4df9-97ce-7c81835bfb73\">\n",
              "    <div class=\"colab-df-container\">\n",
              "      <div>\n",
              "<style scoped>\n",
              "    .dataframe tbody tr th:only-of-type {\n",
              "        vertical-align: middle;\n",
              "    }\n",
              "\n",
              "    .dataframe tbody tr th {\n",
              "        vertical-align: top;\n",
              "    }\n",
              "\n",
              "    .dataframe thead th {\n",
              "        text-align: right;\n",
              "    }\n",
              "</style>\n",
              "<table border=\"1\" class=\"dataframe\">\n",
              "  <thead>\n",
              "    <tr style=\"text-align: right;\">\n",
              "      <th></th>\n",
              "      <th>Year Built</th>\n",
              "      <th>House Area (sqft)</th>\n",
              "      <th>Quality of Build</th>\n",
              "      <th>Neighborhood</th>\n",
              "      <th>Foundation Type</th>\n",
              "      <th>Total Rooms</th>\n",
              "      <th>Bathrooms</th>\n",
              "      <th>Bedrooms</th>\n",
              "      <th>SalePrice</th>\n",
              "    </tr>\n",
              "  </thead>\n",
              "  <tbody>\n",
              "    <tr>\n",
              "      <th>0</th>\n",
              "      <td>1960</td>\n",
              "      <td>1656</td>\n",
              "      <td>6</td>\n",
              "      <td>NAmes</td>\n",
              "      <td>CBlock</td>\n",
              "      <td>7</td>\n",
              "      <td>1</td>\n",
              "      <td>3</td>\n",
              "      <td>215000</td>\n",
              "    </tr>\n",
              "    <tr>\n",
              "      <th>1</th>\n",
              "      <td>1961</td>\n",
              "      <td>896</td>\n",
              "      <td>5</td>\n",
              "      <td>NAmes</td>\n",
              "      <td>CBlock</td>\n",
              "      <td>5</td>\n",
              "      <td>1</td>\n",
              "      <td>2</td>\n",
              "      <td>105000</td>\n",
              "    </tr>\n",
              "    <tr>\n",
              "      <th>2</th>\n",
              "      <td>1958</td>\n",
              "      <td>1329</td>\n",
              "      <td>6</td>\n",
              "      <td>NAmes</td>\n",
              "      <td>CBlock</td>\n",
              "      <td>6</td>\n",
              "      <td>1</td>\n",
              "      <td>3</td>\n",
              "      <td>172000</td>\n",
              "    </tr>\n",
              "    <tr>\n",
              "      <th>3</th>\n",
              "      <td>1968</td>\n",
              "      <td>2110</td>\n",
              "      <td>7</td>\n",
              "      <td>NAmes</td>\n",
              "      <td>CBlock</td>\n",
              "      <td>8</td>\n",
              "      <td>2</td>\n",
              "      <td>3</td>\n",
              "      <td>244000</td>\n",
              "    </tr>\n",
              "    <tr>\n",
              "      <th>4</th>\n",
              "      <td>1997</td>\n",
              "      <td>1629</td>\n",
              "      <td>5</td>\n",
              "      <td>Gilbert</td>\n",
              "      <td>PConc</td>\n",
              "      <td>6</td>\n",
              "      <td>2</td>\n",
              "      <td>3</td>\n",
              "      <td>189900</td>\n",
              "    </tr>\n",
              "  </tbody>\n",
              "</table>\n",
              "</div>\n",
              "      <button class=\"colab-df-convert\" onclick=\"convertToInteractive('df-db621164-f9b5-4df9-97ce-7c81835bfb73')\"\n",
              "              title=\"Convert this dataframe to an interactive table.\"\n",
              "              style=\"display:none;\">\n",
              "        \n",
              "  <svg xmlns=\"http://www.w3.org/2000/svg\" height=\"24px\"viewBox=\"0 0 24 24\"\n",
              "       width=\"24px\">\n",
              "    <path d=\"M0 0h24v24H0V0z\" fill=\"none\"/>\n",
              "    <path d=\"M18.56 5.44l.94 2.06.94-2.06 2.06-.94-2.06-.94-.94-2.06-.94 2.06-2.06.94zm-11 1L8.5 8.5l.94-2.06 2.06-.94-2.06-.94L8.5 2.5l-.94 2.06-2.06.94zm10 10l.94 2.06.94-2.06 2.06-.94-2.06-.94-.94-2.06-.94 2.06-2.06.94z\"/><path d=\"M17.41 7.96l-1.37-1.37c-.4-.4-.92-.59-1.43-.59-.52 0-1.04.2-1.43.59L10.3 9.45l-7.72 7.72c-.78.78-.78 2.05 0 2.83L4 21.41c.39.39.9.59 1.41.59.51 0 1.02-.2 1.41-.59l7.78-7.78 2.81-2.81c.8-.78.8-2.07 0-2.86zM5.41 20L4 18.59l7.72-7.72 1.47 1.35L5.41 20z\"/>\n",
              "  </svg>\n",
              "      </button>\n",
              "      \n",
              "  <style>\n",
              "    .colab-df-container {\n",
              "      display:flex;\n",
              "      flex-wrap:wrap;\n",
              "      gap: 12px;\n",
              "    }\n",
              "\n",
              "    .colab-df-convert {\n",
              "      background-color: #E8F0FE;\n",
              "      border: none;\n",
              "      border-radius: 50%;\n",
              "      cursor: pointer;\n",
              "      display: none;\n",
              "      fill: #1967D2;\n",
              "      height: 32px;\n",
              "      padding: 0 0 0 0;\n",
              "      width: 32px;\n",
              "    }\n",
              "\n",
              "    .colab-df-convert:hover {\n",
              "      background-color: #E2EBFA;\n",
              "      box-shadow: 0px 1px 2px rgba(60, 64, 67, 0.3), 0px 1px 3px 1px rgba(60, 64, 67, 0.15);\n",
              "      fill: #174EA6;\n",
              "    }\n",
              "\n",
              "    [theme=dark] .colab-df-convert {\n",
              "      background-color: #3B4455;\n",
              "      fill: #D2E3FC;\n",
              "    }\n",
              "\n",
              "    [theme=dark] .colab-df-convert:hover {\n",
              "      background-color: #434B5C;\n",
              "      box-shadow: 0px 1px 3px 1px rgba(0, 0, 0, 0.15);\n",
              "      filter: drop-shadow(0px 1px 2px rgba(0, 0, 0, 0.3));\n",
              "      fill: #FFFFFF;\n",
              "    }\n",
              "  </style>\n",
              "\n",
              "      <script>\n",
              "        const buttonEl =\n",
              "          document.querySelector('#df-db621164-f9b5-4df9-97ce-7c81835bfb73 button.colab-df-convert');\n",
              "        buttonEl.style.display =\n",
              "          google.colab.kernel.accessAllowed ? 'block' : 'none';\n",
              "\n",
              "        async function convertToInteractive(key) {\n",
              "          const element = document.querySelector('#df-db621164-f9b5-4df9-97ce-7c81835bfb73');\n",
              "          const dataTable =\n",
              "            await google.colab.kernel.invokeFunction('convertToInteractive',\n",
              "                                                     [key], {});\n",
              "          if (!dataTable) return;\n",
              "\n",
              "          const docLinkHtml = 'Like what you see? Visit the ' +\n",
              "            '<a target=\"_blank\" href=https://colab.research.google.com/notebooks/data_table.ipynb>data table notebook</a>'\n",
              "            + ' to learn more about interactive tables.';\n",
              "          element.innerHTML = '';\n",
              "          dataTable['output_type'] = 'display_data';\n",
              "          await google.colab.output.renderOutput(dataTable, element);\n",
              "          const docLink = document.createElement('div');\n",
              "          docLink.innerHTML = docLinkHtml;\n",
              "          element.appendChild(docLink);\n",
              "        }\n",
              "      </script>\n",
              "    </div>\n",
              "  </div>\n",
              "  "
            ]
          },
          "metadata": {},
          "execution_count": 119
        }
      ]
    },
    {
      "cell_type": "code",
      "source": [
        "# get shape of dataset\n",
        "df.shape"
      ],
      "metadata": {
        "colab": {
          "base_uri": "https://localhost:8080/"
        },
        "id": "L73AdAk9GWPO",
        "outputId": "16e40ae6-b93e-4a02-c37d-30b0ab513749"
      },
      "execution_count": null,
      "outputs": [
        {
          "output_type": "execute_result",
          "data": {
            "text/plain": [
              "(2930, 9)"
            ]
          },
          "metadata": {},
          "execution_count": 120
        }
      ]
    },
    {
      "cell_type": "markdown",
      "source": [
        "## Exploratory Data Analysis (EDA)"
      ],
      "metadata": {
        "id": "tU9gzyt_Fc-t"
      }
    },
    {
      "cell_type": "markdown",
      "source": [
        "To get a quick numerical summary of our dataset, we can use the `.describe()` pandas function:"
      ],
      "metadata": {
        "id": "vZWjbBR1igB1"
      }
    },
    {
      "cell_type": "code",
      "source": [
        "# get numerical summary of dataset\n",
        "df.describe()"
      ],
      "metadata": {
        "colab": {
          "base_uri": "https://localhost:8080/",
          "height": 300
        },
        "id": "OjgjDKhtikkd",
        "outputId": "7e7cc17c-f71e-47b7-c58b-eb5f9f4debc9"
      },
      "execution_count": null,
      "outputs": [
        {
          "output_type": "execute_result",
          "data": {
            "text/plain": [
              "        Year Built  House Area (sqft)  Quality of Build  Total Rooms  \\\n",
              "count  2930.000000        2930.000000       2930.000000  2930.000000   \n",
              "mean   1971.356314        1499.690444          6.094881     6.443003   \n",
              "std      30.245361         505.508887          1.411026     1.572964   \n",
              "min    1872.000000         334.000000          1.000000     2.000000   \n",
              "25%    1954.000000        1126.000000          5.000000     5.000000   \n",
              "50%    1973.000000        1442.000000          6.000000     6.000000   \n",
              "75%    2001.000000        1742.750000          7.000000     7.000000   \n",
              "max    2010.000000        5642.000000         10.000000    15.000000   \n",
              "\n",
              "         Bathrooms     Bedrooms      SalePrice  \n",
              "count  2930.000000  2930.000000    2930.000000  \n",
              "mean      1.566553     2.854266  180796.060068  \n",
              "std       0.552941     0.827731   79886.692357  \n",
              "min       0.000000     0.000000   12789.000000  \n",
              "25%       1.000000     2.000000  129500.000000  \n",
              "50%       2.000000     3.000000  160000.000000  \n",
              "75%       2.000000     3.000000  213500.000000  \n",
              "max       4.000000     8.000000  755000.000000  "
            ],
            "text/html": [
              "\n",
              "  <div id=\"df-e5d5a0a9-eae3-4e96-b7d3-27e96db3f18e\">\n",
              "    <div class=\"colab-df-container\">\n",
              "      <div>\n",
              "<style scoped>\n",
              "    .dataframe tbody tr th:only-of-type {\n",
              "        vertical-align: middle;\n",
              "    }\n",
              "\n",
              "    .dataframe tbody tr th {\n",
              "        vertical-align: top;\n",
              "    }\n",
              "\n",
              "    .dataframe thead th {\n",
              "        text-align: right;\n",
              "    }\n",
              "</style>\n",
              "<table border=\"1\" class=\"dataframe\">\n",
              "  <thead>\n",
              "    <tr style=\"text-align: right;\">\n",
              "      <th></th>\n",
              "      <th>Year Built</th>\n",
              "      <th>House Area (sqft)</th>\n",
              "      <th>Quality of Build</th>\n",
              "      <th>Total Rooms</th>\n",
              "      <th>Bathrooms</th>\n",
              "      <th>Bedrooms</th>\n",
              "      <th>SalePrice</th>\n",
              "    </tr>\n",
              "  </thead>\n",
              "  <tbody>\n",
              "    <tr>\n",
              "      <th>count</th>\n",
              "      <td>2930.000000</td>\n",
              "      <td>2930.000000</td>\n",
              "      <td>2930.000000</td>\n",
              "      <td>2930.000000</td>\n",
              "      <td>2930.000000</td>\n",
              "      <td>2930.000000</td>\n",
              "      <td>2930.000000</td>\n",
              "    </tr>\n",
              "    <tr>\n",
              "      <th>mean</th>\n",
              "      <td>1971.356314</td>\n",
              "      <td>1499.690444</td>\n",
              "      <td>6.094881</td>\n",
              "      <td>6.443003</td>\n",
              "      <td>1.566553</td>\n",
              "      <td>2.854266</td>\n",
              "      <td>180796.060068</td>\n",
              "    </tr>\n",
              "    <tr>\n",
              "      <th>std</th>\n",
              "      <td>30.245361</td>\n",
              "      <td>505.508887</td>\n",
              "      <td>1.411026</td>\n",
              "      <td>1.572964</td>\n",
              "      <td>0.552941</td>\n",
              "      <td>0.827731</td>\n",
              "      <td>79886.692357</td>\n",
              "    </tr>\n",
              "    <tr>\n",
              "      <th>min</th>\n",
              "      <td>1872.000000</td>\n",
              "      <td>334.000000</td>\n",
              "      <td>1.000000</td>\n",
              "      <td>2.000000</td>\n",
              "      <td>0.000000</td>\n",
              "      <td>0.000000</td>\n",
              "      <td>12789.000000</td>\n",
              "    </tr>\n",
              "    <tr>\n",
              "      <th>25%</th>\n",
              "      <td>1954.000000</td>\n",
              "      <td>1126.000000</td>\n",
              "      <td>5.000000</td>\n",
              "      <td>5.000000</td>\n",
              "      <td>1.000000</td>\n",
              "      <td>2.000000</td>\n",
              "      <td>129500.000000</td>\n",
              "    </tr>\n",
              "    <tr>\n",
              "      <th>50%</th>\n",
              "      <td>1973.000000</td>\n",
              "      <td>1442.000000</td>\n",
              "      <td>6.000000</td>\n",
              "      <td>6.000000</td>\n",
              "      <td>2.000000</td>\n",
              "      <td>3.000000</td>\n",
              "      <td>160000.000000</td>\n",
              "    </tr>\n",
              "    <tr>\n",
              "      <th>75%</th>\n",
              "      <td>2001.000000</td>\n",
              "      <td>1742.750000</td>\n",
              "      <td>7.000000</td>\n",
              "      <td>7.000000</td>\n",
              "      <td>2.000000</td>\n",
              "      <td>3.000000</td>\n",
              "      <td>213500.000000</td>\n",
              "    </tr>\n",
              "    <tr>\n",
              "      <th>max</th>\n",
              "      <td>2010.000000</td>\n",
              "      <td>5642.000000</td>\n",
              "      <td>10.000000</td>\n",
              "      <td>15.000000</td>\n",
              "      <td>4.000000</td>\n",
              "      <td>8.000000</td>\n",
              "      <td>755000.000000</td>\n",
              "    </tr>\n",
              "  </tbody>\n",
              "</table>\n",
              "</div>\n",
              "      <button class=\"colab-df-convert\" onclick=\"convertToInteractive('df-e5d5a0a9-eae3-4e96-b7d3-27e96db3f18e')\"\n",
              "              title=\"Convert this dataframe to an interactive table.\"\n",
              "              style=\"display:none;\">\n",
              "        \n",
              "  <svg xmlns=\"http://www.w3.org/2000/svg\" height=\"24px\"viewBox=\"0 0 24 24\"\n",
              "       width=\"24px\">\n",
              "    <path d=\"M0 0h24v24H0V0z\" fill=\"none\"/>\n",
              "    <path d=\"M18.56 5.44l.94 2.06.94-2.06 2.06-.94-2.06-.94-.94-2.06-.94 2.06-2.06.94zm-11 1L8.5 8.5l.94-2.06 2.06-.94-2.06-.94L8.5 2.5l-.94 2.06-2.06.94zm10 10l.94 2.06.94-2.06 2.06-.94-2.06-.94-.94-2.06-.94 2.06-2.06.94z\"/><path d=\"M17.41 7.96l-1.37-1.37c-.4-.4-.92-.59-1.43-.59-.52 0-1.04.2-1.43.59L10.3 9.45l-7.72 7.72c-.78.78-.78 2.05 0 2.83L4 21.41c.39.39.9.59 1.41.59.51 0 1.02-.2 1.41-.59l7.78-7.78 2.81-2.81c.8-.78.8-2.07 0-2.86zM5.41 20L4 18.59l7.72-7.72 1.47 1.35L5.41 20z\"/>\n",
              "  </svg>\n",
              "      </button>\n",
              "      \n",
              "  <style>\n",
              "    .colab-df-container {\n",
              "      display:flex;\n",
              "      flex-wrap:wrap;\n",
              "      gap: 12px;\n",
              "    }\n",
              "\n",
              "    .colab-df-convert {\n",
              "      background-color: #E8F0FE;\n",
              "      border: none;\n",
              "      border-radius: 50%;\n",
              "      cursor: pointer;\n",
              "      display: none;\n",
              "      fill: #1967D2;\n",
              "      height: 32px;\n",
              "      padding: 0 0 0 0;\n",
              "      width: 32px;\n",
              "    }\n",
              "\n",
              "    .colab-df-convert:hover {\n",
              "      background-color: #E2EBFA;\n",
              "      box-shadow: 0px 1px 2px rgba(60, 64, 67, 0.3), 0px 1px 3px 1px rgba(60, 64, 67, 0.15);\n",
              "      fill: #174EA6;\n",
              "    }\n",
              "\n",
              "    [theme=dark] .colab-df-convert {\n",
              "      background-color: #3B4455;\n",
              "      fill: #D2E3FC;\n",
              "    }\n",
              "\n",
              "    [theme=dark] .colab-df-convert:hover {\n",
              "      background-color: #434B5C;\n",
              "      box-shadow: 0px 1px 3px 1px rgba(0, 0, 0, 0.15);\n",
              "      filter: drop-shadow(0px 1px 2px rgba(0, 0, 0, 0.3));\n",
              "      fill: #FFFFFF;\n",
              "    }\n",
              "  </style>\n",
              "\n",
              "      <script>\n",
              "        const buttonEl =\n",
              "          document.querySelector('#df-e5d5a0a9-eae3-4e96-b7d3-27e96db3f18e button.colab-df-convert');\n",
              "        buttonEl.style.display =\n",
              "          google.colab.kernel.accessAllowed ? 'block' : 'none';\n",
              "\n",
              "        async function convertToInteractive(key) {\n",
              "          const element = document.querySelector('#df-e5d5a0a9-eae3-4e96-b7d3-27e96db3f18e');\n",
              "          const dataTable =\n",
              "            await google.colab.kernel.invokeFunction('convertToInteractive',\n",
              "                                                     [key], {});\n",
              "          if (!dataTable) return;\n",
              "\n",
              "          const docLinkHtml = 'Like what you see? Visit the ' +\n",
              "            '<a target=\"_blank\" href=https://colab.research.google.com/notebooks/data_table.ipynb>data table notebook</a>'\n",
              "            + ' to learn more about interactive tables.';\n",
              "          element.innerHTML = '';\n",
              "          dataTable['output_type'] = 'display_data';\n",
              "          await google.colab.output.renderOutput(dataTable, element);\n",
              "          const docLink = document.createElement('div');\n",
              "          docLink.innerHTML = docLinkHtml;\n",
              "          element.appendChild(docLink);\n",
              "        }\n",
              "      </script>\n",
              "    </div>\n",
              "  </div>\n",
              "  "
            ]
          },
          "metadata": {},
          "execution_count": 121
        }
      ]
    },
    {
      "cell_type": "markdown",
      "source": [
        "Histograms are a useful way to look at the quantitative values in our dataset and how they are distributed"
      ],
      "metadata": {
        "id": "YbHWq4c-MOIg"
      }
    },
    {
      "cell_type": "code",
      "source": [
        "# histograms of quantitative features\n",
        "df.hist(bins=50, figsize=(15,10))\n",
        "plt.show()"
      ],
      "metadata": {
        "id": "zCYtgybnMSyn",
        "colab": {
          "base_uri": "https://localhost:8080/",
          "height": 607
        },
        "outputId": "0799aa99-ce71-42d5-9279-f7edecd02817"
      },
      "execution_count": null,
      "outputs": [
        {
          "output_type": "display_data",
          "data": {
            "text/plain": [
              "<Figure size 1080x720 with 9 Axes>"
            ],
            "image/png": "[encoded data removed]"
          },
          "metadata": {
            "needs_background": "light"
          }
        }
      ]
    },
    {
      "cell_type": "markdown",
      "source": [
        "Value counts are a good way to look at categorical features in our dataset."
      ],
      "metadata": {
        "id": "S6Pgy_D9F7sD"
      }
    },
    {
      "cell_type": "code",
      "source": [
        "# value counts for neighborhood\n",
        "print('Number of homes from each neighborhood')\n",
        "df['Neighborhood'].value_counts()"
      ],
      "metadata": {
        "colab": {
          "base_uri": "https://localhost:8080/"
        },
        "id": "aGsvRIwwG161",
        "outputId": "d0325d9b-e4c4-4e08-c8fa-ec3fa1908d65"
      },
      "execution_count": null,
      "outputs": [
        {
          "output_type": "stream",
          "name": "stdout",
          "text": [
            "Number of homes from each neighborhood\n"
          ]
        },
        {
          "output_type": "execute_result",
          "data": {
            "text/plain": [
              "NAmes      443\n",
              "CollgCr    267\n",
              "OldTown    239\n",
              "Edwards    194\n",
              "Somerst    182\n",
              "NridgHt    166\n",
              "Gilbert    165\n",
              "Sawyer     151\n",
              "NWAmes     131\n",
              "SawyerW    125\n",
              "Mitchel    114\n",
              "BrkSide    108\n",
              "Crawfor    103\n",
              "IDOTRR      93\n",
              "Timber      72\n",
              "NoRidge     71\n",
              "StoneBr     51\n",
              "SWISU       48\n",
              "ClearCr     44\n",
              "MeadowV     37\n",
              "BrDale      30\n",
              "Blmngtn     28\n",
              "Veenker     24\n",
              "NPkVill     23\n",
              "Blueste     10\n",
              "Greens       8\n",
              "GrnHill      2\n",
              "Landmrk      1\n",
              "Name: Neighborhood, dtype: int64"
            ]
          },
          "metadata": {},
          "execution_count": 123
        }
      ]
    },
    {
      "cell_type": "code",
      "source": [
        "# value counts for neighborhood\n",
        "print('Types of foundations (material = cynder block, poured concrete, brick, slab, stone, or wood)')\n",
        "df['Foundation Type'].value_counts()"
      ],
      "metadata": {
        "colab": {
          "base_uri": "https://localhost:8080/"
        },
        "id": "kEwTVN9JKR-j",
        "outputId": "cbaad997-b416-44a1-8189-81b830025ad9"
      },
      "execution_count": null,
      "outputs": [
        {
          "output_type": "stream",
          "name": "stdout",
          "text": [
            "Types of foundations (material = cynder block, poured concrete, brick, slab, stone, or wood)\n"
          ]
        },
        {
          "output_type": "execute_result",
          "data": {
            "text/plain": [
              "PConc     1310\n",
              "CBlock    1244\n",
              "BrkTil     311\n",
              "Slab        49\n",
              "Stone       11\n",
              "Wood         5\n",
              "Name: Foundation Type, dtype: int64"
            ]
          },
          "metadata": {},
          "execution_count": 124
        }
      ]
    },
    {
      "cell_type": "markdown",
      "source": [
        "We can visualize these value counts through barplots"
      ],
      "metadata": {
        "id": "5BSE0IXVHWMs"
      }
    },
    {
      "cell_type": "code",
      "source": [
        "# Barplot for neighborhood\n",
        "df['Neighborhood'].value_counts().plot(kind='bar')"
      ],
      "metadata": {
        "colab": {
          "base_uri": "https://localhost:8080/",
          "height": 322
        },
        "id": "Ft9MhNphKhEr",
        "outputId": "3e5021bd-b391-4004-b742-a2b803249cf0"
      },
      "execution_count": null,
      "outputs": [
        {
          "output_type": "execute_result",
          "data": {
            "text/plain": [
              "<matplotlib.axes._subplots.AxesSubplot at 0x7f27812c27d0>"
            ]
          },
          "metadata": {},
          "execution_count": 125
        },
        {
          "output_type": "display_data",
          "data": {
            "text/plain": [
              "<Figure size 432x288 with 1 Axes>"
            ],
            "image/png": "[encoded data removed]"
          },
          "metadata": {
            "needs_background": "light"
          }
        }
      ]
    },
    {
      "cell_type": "code",
      "source": [
        "# Barplot for foundation type\n",
        "df['Foundation Type'].value_counts().plot(kind='bar')"
      ],
      "metadata": {
        "colab": {
          "base_uri": "https://localhost:8080/",
          "height": 306
        },
        "id": "eoCAw9pmKu6J",
        "outputId": "83809fe2-f67a-4364-e761-90b43e5a0c6b"
      },
      "execution_count": null,
      "outputs": [
        {
          "output_type": "execute_result",
          "data": {
            "text/plain": [
              "<matplotlib.axes._subplots.AxesSubplot at 0x7f277de7e7d0>"
            ]
          },
          "metadata": {},
          "execution_count": 126
        },
        {
          "output_type": "display_data",
          "data": {
            "text/plain": [
              "<Figure size 432x288 with 1 Axes>"
            ],
            "image/png": "[encoded data removed]"
          },
          "metadata": {
            "needs_background": "light"
          }
        }
      ]
    },
    {
      "cell_type": "markdown",
      "source": [
        "We can start examining correlations with our target variable (price), to see if any variables might be strong predictors of price. For example, here is a scatterplot between year built and price."
      ],
      "metadata": {
        "id": "zCLndKKaF_Sj"
      }
    },
    {
      "cell_type": "code",
      "source": [
        "# scatterplot showing year built and sale price\n",
        "plt.scatter(df['Year Built'], df['SalePrice'])\n",
        "plt.xlabel('Year Built')\n",
        "plt.ylabel('Sale Price')\n",
        "plt.show()"
      ],
      "metadata": {
        "colab": {
          "base_uri": "https://localhost:8080/",
          "height": 279
        },
        "id": "t6IVofG4MCek",
        "outputId": "c861bb93-6664-498a-b386-82096b6822d3"
      },
      "execution_count": null,
      "outputs": [
        {
          "output_type": "display_data",
          "data": {
            "text/plain": [
              "<Figure size 432x288 with 1 Axes>"
            ],
            "image/png": "[encoded data removed]"
          },
          "metadata": {
            "needs_background": "light"
          }
        }
      ]
    },
    {
      "cell_type": "markdown",
      "source": [
        "**Chat Waterfall:** Describe the relationship between year built and sale price. Is it positive of negative? Strong or week? Linear or non-linear?\n",
        "\n"
      ],
      "metadata": {
        "id": "t7WWrtEOK3hv"
      }
    },
    {
      "cell_type": "code",
      "source": [
        "# scatterplot showing lot size and price\n",
        "plt.scatter(df['House Area (sqft)'], df['SalePrice'])\n",
        "plt.xlabel('Size of Home (Square Feet)')\n",
        "plt.ylabel('Sale Price')\n",
        "plt.show()"
      ],
      "metadata": {
        "colab": {
          "base_uri": "https://localhost:8080/",
          "height": 279
        },
        "id": "AvAIcAo1GDcl",
        "outputId": "686da1e0-9517-4b6e-aeb1-780cbc560e7e"
      },
      "execution_count": null,
      "outputs": [
        {
          "output_type": "display_data",
          "data": {
            "text/plain": [
              "<Figure size 432x288 with 1 Axes>"
            ],
            "image/png": "[encoded data removed]"
          },
          "metadata": {
            "needs_background": "light"
          }
        }
      ]
    },
    {
      "cell_type": "markdown",
      "source": [
        "**Chat Waterfall:** Does the relationship between home area and price appear to be stronger or weaker than the relationship between year built and price? How can you tell?"
      ],
      "metadata": {
        "id": "DzlfhoJnMPwz"
      }
    },
    {
      "cell_type": "markdown",
      "source": [
        "## Simple Linear Regression"
      ],
      "metadata": {
        "id": "kYCjjxf9Mjxx"
      }
    },
    {
      "cell_type": "markdown",
      "source": [
        "Let's now do a simple linear regression, using a home's size to predict its sale price."
      ],
      "metadata": {
        "id": "-KszgeXPNAYq"
      }
    },
    {
      "cell_type": "code",
      "source": [
        "# separate into x and y variables\n",
        "X = np.array(df['House Area (sqft)']).reshape(-1, 1) #reshaping will help our model fitting\n",
        "y = np.array(df['SalePrice']).reshape(-1, 1) #reshaping will help our model fitting"
      ],
      "metadata": {
        "id": "Gb8VztnfNACA"
      },
      "execution_count": null,
      "outputs": []
    },
    {
      "cell_type": "code",
      "source": [
        "# import linear regression model, from sklearn\n",
        "from sklearn.linear_model import LinearRegression\n",
        "lm = LinearRegression() # builds up model package\n",
        "lm.fit(X, y) # trains model using training x and y"
      ],
      "metadata": {
        "colab": {
          "base_uri": "https://localhost:8080/"
        },
        "id": "HJ1vZ1jAOYrw",
        "outputId": "3438107e-b3bc-49a8-d4d3-f4f2c3b74415"
      },
      "execution_count": null,
      "outputs": [
        {
          "output_type": "execute_result",
          "data": {
            "text/plain": [
              "LinearRegression()"
            ]
          },
          "metadata": {},
          "execution_count": 130
        }
      ]
    },
    {
      "cell_type": "markdown",
      "source": [
        "The following block will show the fitted linear regression coefficients. Here's a reminder of the formula:\n",
        "\n",
        "$$y = \\beta_0 + \\beta_1 x + \\epsilon$$"
      ],
      "metadata": {
        "id": "PUlhiZSIOxv3"
      }
    },
    {
      "cell_type": "code",
      "source": [
        "# shows fitted coefficients\n",
        "print('Intercept: ', lm.intercept_)\n",
        "print('Slope: ',lm.coef_)"
      ],
      "metadata": {
        "colab": {
          "base_uri": "https://localhost:8080/"
        },
        "id": "UGeD_aGLOsHy",
        "outputId": "b9f098dc-8f76-4469-ab14-f4dd1b63b82e"
      },
      "execution_count": null,
      "outputs": [
        {
          "output_type": "stream",
          "name": "stdout",
          "text": [
            "Intercept:  [13289.63436476]\n",
            "Slope:  [[111.69400086]]\n"
          ]
        }
      ]
    },
    {
      "cell_type": "markdown",
      "source": [
        "**Volunteer:** Interpret what each ceofficient value means, in the context of this problem.\n",
        "\n",
        "<br>\n",
        "\n",
        "Let's graph our model on top of our data:"
      ],
      "metadata": {
        "id": "XZyvLYAYPDeq"
      }
    },
    {
      "cell_type": "code",
      "source": [
        "plt.scatter(X, y)\n",
        "plt.plot(X, lm.predict(X), 'r')\n",
        "plt.xlabel('House Size')\n",
        "plt.ylabel('House Price')\n",
        "plt.show()"
      ],
      "metadata": {
        "colab": {
          "base_uri": "https://localhost:8080/",
          "height": 279
        },
        "id": "tXWAjv9jPF6-",
        "outputId": "44ced31d-9452-4d32-d2d5-e4652542f437"
      },
      "execution_count": null,
      "outputs": [
        {
          "output_type": "display_data",
          "data": {
            "text/plain": [
              "<Figure size 432x288 with 1 Axes>"
            ],
            "image/png": "[encoded data removed]"
          },
          "metadata": {
            "needs_background": "light"
          }
        }
      ]
    },
    {
      "cell_type": "markdown",
      "source": [
        "To evaluate our model fit and predictions, we can determine the mean squared error (MSE):"
      ],
      "metadata": {
        "id": "gkRl0Xr3PTHc"
      }
    },
    {
      "cell_type": "code",
      "source": [
        "from sklearn.metrics import mean_squared_error\n",
        "simple_model_MSE = mean_squared_error(y,lm.predict(X))\n",
        "simple_model_MSE"
      ],
      "metadata": {
        "colab": {
          "base_uri": "https://localhost:8080/"
        },
        "id": "wb4ws4GOPXhm",
        "outputId": "36fe1524-8c4e-49dd-af47-ec69ed873a1a"
      },
      "execution_count": null,
      "outputs": [
        {
          "output_type": "execute_result",
          "data": {
            "text/plain": [
              "3192801087.3860455"
            ]
          },
          "metadata": {},
          "execution_count": 133
        }
      ]
    },
    {
      "cell_type": "markdown",
      "source": [
        "## Train/Test Split and Multiple Linear Regression"
      ],
      "metadata": {
        "id": "uOZYPCcQMU_5"
      }
    },
    {
      "cell_type": "markdown",
      "source": [
        "Now, we're going to do some real machine learning. We're going to split our data into train and test sets. Then, we'll fit our model on the train data, testing its accuracy (MSE) on the test data. This will give us a sense of how accurate our model's predictions would be on new data.\n",
        "\n",
        "For this task, we'll use multiple linear regression (linear regression, with multiple predictor variables). Our goal will be to use the homes' features (X) to predict their sales price (y). So, let's separate the sales price from the rest of the features:"
      ],
      "metadata": {
        "id": "PdOhtVvuC3rT"
      }
    },
    {
      "cell_type": "code",
      "source": [
        "# Get X data (all data except target of price and categorical variables)\n",
        "# Note: In a later lesson, we'll discuss how to to handle categorical features\n",
        "X = df.drop(['Neighborhood','Foundation Type','SalePrice'], axis = 1)\n",
        "y = df['SalePrice']"
      ],
      "metadata": {
        "id": "PyBpWu51Mcjp"
      },
      "execution_count": null,
      "outputs": []
    },
    {
      "cell_type": "markdown",
      "source": [
        "Now, let's split our data into train and test sets."
      ],
      "metadata": {
        "id": "tF5sxN_ze0Pp"
      }
    },
    {
      "cell_type": "code",
      "source": [
        "from sklearn.model_selection import train_test_split"
      ],
      "metadata": {
        "id": "PmaLjkqde64X"
      },
      "execution_count": null,
      "outputs": []
    },
    {
      "cell_type": "code",
      "source": [
        "# Randomly split into train and test sets (30% of data in test set)\n",
        "X_train, X_test, y_train, y_test = train_test_split(X, y, test_size=0.3, random_state=0)\n",
        "\n",
        "# Reshape data for model fitting\n",
        "X_train = np.array(X_train)\n",
        "y_train = np.array(y_train).reshape(-1, 1)\n",
        "X_test = np.array(X_test)\n",
        "y_test = np.array(y_test).reshape(-1,1)\n",
        "\n",
        "print(X_train.shape, X_test.shape)"
      ],
      "metadata": {
        "colab": {
          "base_uri": "https://localhost:8080/"
        },
        "id": "xtIaGzNffP_H",
        "outputId": "f4056541-c663-4d1c-f0d5-b61622ca3cfa"
      },
      "execution_count": null,
      "outputs": [
        {
          "output_type": "stream",
          "name": "stdout",
          "text": [
            "(2051, 6) (879, 6)\n"
          ]
        }
      ]
    },
    {
      "cell_type": "markdown",
      "source": [
        "We'll now fit our multiple linear regression model:\n",
        "\n",
        "$$y = \\beta_0 + \\beta_1 x_1+ \\beta_2 x_2+ \\beta_3 x_3+ \\beta_4 x_4 +... + \\epsilon$$\n",
        "\n",
        "We'll use all the home features available to us (home area, number of bedrooms, build quality, etc.) in our dataset."
      ],
      "metadata": {
        "id": "6pJiw-AofsNR"
      }
    },
    {
      "cell_type": "code",
      "source": [
        "# fit on training data\n",
        "lm = LinearRegression() # builds up model package\n",
        "lm.fit(X_train, y_train) # trains model using training x and y"
      ],
      "metadata": {
        "colab": {
          "base_uri": "https://localhost:8080/"
        },
        "id": "J_e-OFFwgDXT",
        "outputId": "098c255b-6282-4437-8794-dd5a51d10c0a"
      },
      "execution_count": null,
      "outputs": [
        {
          "output_type": "execute_result",
          "data": {
            "text/plain": [
              "LinearRegression()"
            ]
          },
          "metadata": {},
          "execution_count": 137
        }
      ]
    },
    {
      "cell_type": "markdown",
      "source": [
        "**Chat Waterfall:** It appears that `Total Rooms` has a negative coefficient value. Why might this be?"
      ],
      "metadata": {
        "id": "Xs5rPQVLgLsQ"
      }
    },
    {
      "cell_type": "code",
      "source": [
        "lm.coef_"
      ],
      "metadata": {
        "colab": {
          "base_uri": "https://localhost:8080/"
        },
        "id": "h3oMly_5gNtl",
        "outputId": "192e4a58-489a-44c5-e3bb-578c162f9d87"
      },
      "execution_count": null,
      "outputs": [
        {
          "output_type": "execute_result",
          "data": {
            "text/plain": [
              "array([[   513.42827714,     74.44570568,  24698.52331147,\n",
              "          2900.85988925,  -7516.33971361, -13937.84116863]])"
            ]
          },
          "metadata": {},
          "execution_count": 138
        }
      ]
    },
    {
      "cell_type": "markdown",
      "source": [
        "Let's make predictions on our test set and get our test MSE."
      ],
      "metadata": {
        "id": "xFuLkbPdgaP8"
      }
    },
    {
      "cell_type": "code",
      "source": [
        "multiple_regression_MSE = mean_squared_error(y_test, lm.predict(X_test))\n",
        "multiple_regression_MSE"
      ],
      "metadata": {
        "colab": {
          "base_uri": "https://localhost:8080/"
        },
        "id": "byOjrpHcgiNO",
        "outputId": "b5f4d0c5-c4ff-429e-cb2e-a1e9c2b8b6e6"
      },
      "execution_count": null,
      "outputs": [
        {
          "output_type": "execute_result",
          "data": {
            "text/plain": [
              "1705802765.4025605"
            ]
          },
          "metadata": {},
          "execution_count": 139
        }
      ]
    },
    {
      "cell_type": "markdown",
      "source": [
        "How much better is this multiple regression model than our simple linear regresison model? Let's compare the MSE values! We're going to divide the simple linear regression MSE by the multiple regression MSE:"
      ],
      "metadata": {
        "id": "t27m2SLPhJbP"
      }
    },
    {
      "cell_type": "code",
      "source": [
        "simple_model_MSE / multiple_regression_MSE"
      ],
      "metadata": {
        "colab": {
          "base_uri": "https://localhost:8080/"
        },
        "id": "QRny9BfahUvP",
        "outputId": "9971d91b-c2ed-4bbe-8a7a-4a7e88bf92c5"
      },
      "execution_count": null,
      "outputs": [
        {
          "output_type": "execute_result",
          "data": {
            "text/plain": [
              "1.8717293418342895"
            ]
          },
          "metadata": {},
          "execution_count": 140
        }
      ]
    },
    {
      "cell_type": "markdown",
      "source": [
        "The multiple regression reduced the MSE by a factor of almost 2!"
      ],
      "metadata": {
        "id": "zqbbS2c5hZGx"
      }
    },
    {
      "cell_type": "markdown",
      "source": [
        "# Practice Problems Start Here"
      ],
      "metadata": {
        "id": "mkCkwJiNqRfg"
      }
    },
    {
      "cell_type": "markdown",
      "metadata": {
        "id": "5FACki7O88N4"
      },
      "source": [
        "Load libraries. The librarires required are\n",
        "- numpy\n",
        "- pandas\n",
        "- import matplotlib.pyplot as plt"
      ]
    },
    {
      "cell_type": "code",
      "metadata": {
        "id": "uaROCqUs87Pd"
      },
      "source": [
        "# do not edit this code\n",
        "import numpy as np\n",
        "import pandas as pd\n",
        "import matplotlib.pyplot as plt"
      ],
      "execution_count": null,
      "outputs": []
    },
    {
      "cell_type": "markdown",
      "metadata": {
        "id": "cNcIHoBN87rv"
      },
      "source": [
        "We use *California Housing Data*, which can be referenced from [here](https://scikit-learn.org/stable/datasets/real_world.html#california-housing-dataset). More info can be found [here](https://www.dcc.fc.up.pt/~ltorgo/Regression/cal_housing.html).\n",
        "\n",
        "We collected information on the variables using all the block groups in California from the 1990 Cens us. In this sample a block group on average includes 1425.5 individuals living in a geographically compact area. Naturally, the geographical area included varies inversely with the population density. W e computed distances among the centroids of each block group as measured in latitude and longitude. We excluded all the block groups reporting zero entries for the independent and dependent variables. T he final data contained 20,640 observations on 9 variables. The dependent variable is ln(median house value)."
      ]
    },
    {
      "cell_type": "code",
      "metadata": {
        "id": "53SGTcDB9Ovz"
      },
      "source": [
        "# load sklearn library\n",
        "# do not edit this code\n",
        "# but you have to run it\n",
        "from sklearn.datasets import fetch_california_housing\n",
        "\n",
        "path = \"/content/sample_data/california_housing_train.csv\" # paste the path here\n",
        "df = pd.read_csv(path)"
      ],
      "execution_count": null,
      "outputs": []
    },
    {
      "cell_type": "markdown",
      "metadata": {
        "id": "py8sc08FT9So"
      },
      "source": [
        "### Warm-up & Review: Using Pandas\n",
        "\n",
        "In the warm-up & review problems, we are going to do some practice of using Pandas. If you feel comfortable with Pandas, you can skip ahead to get into Linear Regression. For everyone else. We encourage you to do these problesm first. If you need help, check out the [coding walk through of Pandas & Numby.](https://drive.google.com/file/d/1E0m-dSdBhymbkplUDIUD-nLQ_hmJRHBh/view?usp=sharing)."
      ]
    },
    {
      "cell_type": "markdown",
      "metadata": {
        "id": "FwOZkKzGUPvj"
      },
      "source": [
        "### Warm-up (1): Exploring the dataframe\n",
        "\n",
        "Let's start off by just looking at the dataframe above that we have defined. As a first step, please look at the head of the dataset. Remember you can do that using the df.head() function (really the function is .head and this is being called on the panda dataframe that we have named df.) Try it below!"
      ]
    },
    {
      "cell_type": "code",
      "metadata": {
        "id": "JTtgtNweUNKP"
      },
      "source": [
        "# Look at the head of the dataframe using the .head function\n",
        "## Your Code Starts Here ##\n"
      ],
      "execution_count": null,
      "outputs": []
    },
    {
      "cell_type": "markdown",
      "metadata": {
        "id": "dBfmV3PlVBY_"
      },
      "source": [
        "### Warm-up (2): Find the largest and smallest median housing price in the dataset\n",
        "\n",
        "Great! You've looked at the dataset and you can probably see that there are a bunch of different columns. One of the columns that you'll see is the variable `median_house_value`.\n",
        "\n",
        "Below, find the max housing price for a district and the minimum housing price for a district.\n",
        "\n",
        "HINT: Use numpy functions for max and min once you select the \"target\" variable from the dataframe."
      ]
    },
    {
      "cell_type": "code",
      "metadata": {
        "id": "zgWWzZtXWSeP"
      },
      "source": [
        "## Your Code Starts Here ##\n"
      ],
      "execution_count": null,
      "outputs": []
    },
    {
      "cell_type": "markdown",
      "metadata": {
        "id": "t4PPmY6hVB4N"
      },
      "source": [
        "### Warm-up (3): Exploring the dataframe\n",
        "\n",
        "We have introduced the *.describe* method in the pandas library. In this warm-up exercise, you will use *.describe* method to display the summary statistics of each column in the dataframe."
      ]
    },
    {
      "cell_type": "code",
      "metadata": {
        "id": "aW0texINRgoh"
      },
      "source": [
        "## Your Code Starts Here ##\n"
      ],
      "execution_count": null,
      "outputs": []
    },
    {
      "cell_type": "markdown",
      "metadata": {
        "id": "iytxiw2a9aKu"
      },
      "source": [
        "### Task (1): Define X and Y of Linear Model\n",
        "\n",
        "Great! You've begun to understand a bit more about your data. Now we're actually going to build a machine learning model to predict the median house price in each of these census tracts.\n",
        "\n",
        "Please define explanatory variable \"median income\" as $X$ and the response variable \"median house value\" as $Y$.\n",
        "\n",
        "Hint: Use the pandas library to locate a column inside a pandas dataframe."
      ]
    },
    {
      "cell_type": "code",
      "metadata": {
        "id": "TAW-332J9ZNs"
      },
      "source": [
        "## Your Code Starts Here ##\n"
      ],
      "execution_count": null,
      "outputs": []
    },
    {
      "cell_type": "markdown",
      "metadata": {
        "id": "3Cy1JzQx9i6M"
      },
      "source": [
        "### Task (2): Exploring Data\n",
        "\n",
        "We explore the scatter plot of *X* and *Y*. Please do a scatter plot by using $X$ anad $Y$ defined above.\n",
        "\n",
        "- Hint: you may find *plt.scatter()* helpful.\n",
        "- Please also define X-label and Y-label names. You may find the *plt.xlabel()* and *plt.ylabel()* helpful."
      ]
    },
    {
      "cell_type": "code",
      "metadata": {
        "id": "d56aHfLf9Zk3",
        "colab": {
          "base_uri": "https://localhost:8080/",
          "height": 296
        },
        "outputId": "23046123-9d5b-4828-d8ef-3e5eee2822a3"
      },
      "source": [
        "## Your Code Starts Here ##\n"
      ],
      "execution_count": null,
      "outputs": [
        {
          "output_type": "execute_result",
          "data": {
            "text/plain": [
              "Text(0, 0.5, 'Target')"
            ]
          },
          "metadata": {},
          "execution_count": 49
        },
        {
          "output_type": "display_data",
          "data": {
            "image/png": "[encoded data removed]",
            "text/plain": [
              "<Figure size 432x288 with 1 Axes>"
            ]
          },
          "metadata": {
            "needs_background": "light"
          }
        }
      ]
    },
    {
      "cell_type": "markdown",
      "metadata": {
        "id": "eYKgmyHm9363"
      },
      "source": [
        "We use the following section to fit a linear regression model. These data processing part are required. However, you do not have to complete these. We leave them here for your reference in case you are interested."
      ]
    },
    {
      "cell_type": "code",
      "metadata": {
        "id": "OofmJuce9o7J"
      },
      "source": [
        "# do not edit this code\n",
        "from sklearn.model_selection import train_test_split"
      ],
      "execution_count": null,
      "outputs": []
    },
    {
      "cell_type": "code",
      "metadata": {
        "id": "cr4UGC_S93bg",
        "colab": {
          "base_uri": "https://localhost:8080/"
        },
        "outputId": "057203c7-d358-48e8-d830-fa5654b2a6f8"
      },
      "source": [
        "# do not edit this code\n",
        "X_train, X_test, y_train, y_test = train_test_split(X, Y, test_size=0.3, random_state=0)\n",
        "X_train = np.array(X_train).reshape(-1, 1)\n",
        "y_train = np.array(y_train).reshape(-1, 1)\n",
        "X_test = np.array(X_test).reshape(-1, 1)\n",
        "y_test = np.array(y_test).reshape(-1, 1)\n",
        "print(X_train.shape, X_test.shape)"
      ],
      "execution_count": null,
      "outputs": [
        {
          "output_type": "stream",
          "name": "stdout",
          "text": [
            "(14448, 1) (6192, 1)\n"
          ]
        }
      ]
    },
    {
      "cell_type": "markdown",
      "metadata": {
        "id": "drV-s4Wd-H-T"
      },
      "source": [
        "### Task (3): Linear Regression Model\n",
        "\n",
        "Fit a linear regression model using X_train and y_train. Hint: you may find the function *LinearRegression()* in our practice walk-through during Session 2 helpful."
      ]
    },
    {
      "cell_type": "code",
      "metadata": {
        "id": "XFgtjmLI-CfJ"
      },
      "source": [
        "# do not edit this code\n",
        "from sklearn.linear_model import LinearRegression"
      ],
      "execution_count": null,
      "outputs": []
    },
    {
      "cell_type": "code",
      "metadata": {
        "id": "Soc4dz0Y-C1R"
      },
      "source": [
        "## Your Code Starts Here ##\n"
      ],
      "execution_count": null,
      "outputs": []
    },
    {
      "cell_type": "markdown",
      "metadata": {
        "id": "RZBd1vWr-SMh"
      },
      "source": [
        "### Task (4): Print the coefficients\n",
        "\n",
        "Please print the coefficients of the model and use plain English to interpret what the coefficient means."
      ]
    },
    {
      "cell_type": "code",
      "metadata": {
        "id": "MWLZFSzJ-ItV"
      },
      "source": [
        "## Your Code Starts Here ##\n"
      ],
      "execution_count": null,
      "outputs": []
    },
    {
      "cell_type": "markdown",
      "source": [
        "### Task (5): See how good your predictions are\n",
        "\n",
        "Find the MSE on the test set."
      ],
      "metadata": {
        "id": "6EB-i3LYjgab"
      }
    },
    {
      "cell_type": "code",
      "source": [
        "## Your Code Starts Here ##\n"
      ],
      "metadata": {
        "id": "dfVyvssUjl5p"
      },
      "execution_count": null,
      "outputs": []
    },
    {
      "cell_type": "markdown",
      "source": [
        "## **Small Group Discussion Question**\n",
        "\n",
        "You should have found a positive slope in your linear regression model. Why was the slope positive? Hint: Think about how incomes might relate to home values."
      ],
      "metadata": {
        "id": "SxKj1bjDuP0g"
      }
    },
    {
      "cell_type": "markdown",
      "source": [
        "## Challenge Problems\n",
        "\n",
        "### Challenge (1): Multiple Regression\n",
        "\n",
        "This time, include ALL features as (X). The median home price will still be the target (y). Do a train test split, fit a multiple linear regression model, and find your test MSE on the test set."
      ],
      "metadata": {
        "id": "3BYx3NgLj0lF"
      }
    },
    {
      "cell_type": "code",
      "source": [
        "## Your Code Starts Here ##\n"
      ],
      "metadata": {
        "id": "JHWLBoxHkITj"
      },
      "execution_count": null,
      "outputs": []
    },
    {
      "cell_type": "markdown",
      "metadata": {
        "id": "8LBXUrOAUR2y"
      },
      "source": [
        "### Challenge (2): Generate Predictors\n",
        "\n",
        "Use the *YOUR_MODEL.predict()* method to predict educated guesses or estimate using model and data."
      ]
    },
    {
      "cell_type": "markdown",
      "metadata": {
        "id": "9sad2bHjVfU0"
      },
      "source": [
        "Please compute predictions using training set *X_train*."
      ]
    },
    {
      "cell_type": "code",
      "metadata": {
        "id": "nLkASNdJUY0I"
      },
      "source": [
        "## Your Code Starts Here ##\n"
      ],
      "execution_count": null,
      "outputs": []
    },
    {
      "cell_type": "markdown",
      "metadata": {
        "id": "4cM_Wt67Vk-7"
      },
      "source": [
        "Please compute predictor using test set *X_test*."
      ]
    },
    {
      "cell_type": "code",
      "metadata": {
        "id": "PUZmci3hUbIM"
      },
      "source": [
        "## Your Code Starts Here ##\n"
      ],
      "execution_count": null,
      "outputs": []
    },
    {
      "cell_type": "markdown",
      "metadata": {
        "id": "9Yg6FL5-TLCm"
      },
      "source": [
        "### Challenge (3): Calculate Root Means Squared Erro by Hand\n",
        "\n",
        "Recall that we have discussed in class Mean Square Error or MSE. This is a loss function that measures how many mistakes the educated guess is making at predicting the ground truth. Before we do the computations, let us introduce the notation\n",
        "\n",
        "- $\\frac{1}{n}$: this means divide by $n$ while $N$ is the total sample size of the training or test set.\n",
        "- $\\sum_{i=1}^n$: this is the summation symbol, it means take sum using running index from $i=1$ to $i=n$.\n",
        "- $Y_i$: this is the ground truth, i.e. the real number of housing price\n",
        "- $\\hat{Y}_i$: this is the educated guess or the output of the model, i.e. you can find this using the function *YOUR_MODEL.predict()*.\n",
        "\n",
        "\n",
        "$$\\text{MSE} = \\frac{1}{n} \\sum_{i=1}^n (Y_i - \\hat{Y}_i)^2$$\n",
        "\n",
        "Note that the outcome of this error is a little difficult to interpret. This reason is because the unit of this error is in square terms. For example, if $Y$ is housing price in dollars and $\\hat{Y}$ is also in dollars, then MSE would be dollar$^2$. This is difficult to interpret in real world.\n",
        "\n",
        "To take care of this problem, we take a square root of the MSE formula. We call it the Root MSE or RMSE.\n",
        "\n",
        "$$\\text{RMSE} = \\sqrt{\\frac{1}{n} \\sum_{i=1}^n (Y_i - \\hat{Y}_i)^2}$$\n",
        "\n",
        "\n",
        "**Task**: Without using the sklearn `mean_squared_error` function, write your own code to calculate the root mean squared error on the test set. Hint: You may find the `.mean()` method and `**` operator helpful in this exercise."
      ]
    },
    {
      "cell_type": "code",
      "metadata": {
        "id": "6o9uqBSsWIn6"
      },
      "source": [
        "## Your Code Starts Here ##\n"
      ],
      "execution_count": null,
      "outputs": []
    }
  ]
}